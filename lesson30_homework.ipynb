{
 "cells": [
  {
   "cell_type": "code",
   "execution_count": 1,
   "metadata": {},
   "outputs": [],
   "source": [
    "from neo4j import GraphDatabase\n",
    "\n",
    "uri = 'neo4j://localhost:7687'\n",
    "user = 'neo4j'\n",
    "password = 'password'\n",
    "\n",
    "driver = GraphDatabase.driver(uri, auth=(user, password))"
   ]
  },
  {
   "cell_type": "markdown",
   "metadata": {},
   "source": [
    "1. Найти самый старый фильм и самый новый фильм - вывести их названия по 1 шт (2 запроса)"
   ]
  },
  {
   "cell_type": "code",
   "execution_count": null,
   "metadata": {},
   "outputs": [
    {
     "name": "stdout",
     "output_type": "stream",
     "text": [
      "[\"One Flew Over the Cuckoo's Nest\"]\n"
     ]
    }
   ],
   "source": [
    "def find_oldest_movie(tx):\n",
    "    result = tx.run(\"\"\"\n",
    "        MATCH (movie:Movie)\n",
    "        WITH MIN(movie.released) as oldest_year\n",
    "        MATCH (old_movie:Movie {released: oldest_year})\n",
    "        RETURN collect (old_movie.title) as movie_title\n",
    "    \"\"\")\n",
    "    return result.single()[\"movie_title\"]\n",
    "\n",
    "#использовала в запросе collect на случай, если в том же году было снято несколько фильмов\n",
    "\n",
    "with driver.session() as session:\n",
    "    movie_title = session.execute_read(find_oldest_movie)\n",
    "    print(movie_title)"
   ]
  },
  {
   "cell_type": "code",
   "execution_count": 3,
   "metadata": {},
   "outputs": [
    {
     "name": "stdout",
     "output_type": "stream",
     "text": [
      "['Cloud Atlas']\n"
     ]
    }
   ],
   "source": [
    "def find_newest_movie(tx):\n",
    "    result = tx.run(\"\"\"\n",
    "        MATCH (movie:Movie)\n",
    "        WITH MAX(movie.released) as newest_year\n",
    "        MATCH (new_movie:Movie {released: newest_year})\n",
    "        RETURN collect (new_movie.title) as movie_title\n",
    "    \"\"\")\n",
    "    return result.single()[\"movie_title\"]\n",
    "\n",
    "with driver.session() as session:\n",
    "    movie_title = session.execute_read(find_newest_movie)\n",
    "    print(movie_title)"
   ]
  },
  {
   "cell_type": "markdown",
   "metadata": {},
   "source": [
    "2. Получить среднее количество актёров на фильм"
   ]
  },
  {
   "cell_type": "code",
   "execution_count": 4,
   "metadata": {},
   "outputs": [
    {
     "name": "stdout",
     "output_type": "stream",
     "text": [
      "4.526315789473684\n"
     ]
    }
   ],
   "source": [
    "def find_avg_actor_count(tx):\n",
    "    result = tx.run(\"\"\"\n",
    "        MATCH (movie:Movie)<-[:ACTED_IN]-(actor:Person)\n",
    "        WITH movie, COUNT(actor) as actor_count\n",
    "        RETURN AVG(actor_count) as avg_actor_count\n",
    "    \"\"\")\n",
    "    return result.single()[\"avg_actor_count\"]\n",
    "\n",
    "with driver.session() as session:\n",
    "    avg_actor_count = session.execute_read(find_avg_actor_count)\n",
    "    print(avg_actor_count)"
   ]
  },
  {
   "cell_type": "markdown",
   "metadata": {},
   "source": [
    "3. Группировка фильмов по годам и подсчёт количества фильмов в каждом году"
   ]
  },
  {
   "cell_type": "code",
   "execution_count": 5,
   "metadata": {},
   "outputs": [
    {
     "name": "stdout",
     "output_type": "stream",
     "text": [
      "1975 - 1\n",
      "1986 - 2\n",
      "1990 - 1\n",
      "1992 - 4\n",
      "1993 - 1\n",
      "1995 - 2\n",
      "1996 - 3\n",
      "1997 - 2\n",
      "1998 - 3\n",
      "1999 - 4\n",
      "2000 - 3\n",
      "2003 - 3\n",
      "2004 - 1\n",
      "2006 - 3\n",
      "2007 - 1\n",
      "2008 - 2\n",
      "2009 - 1\n",
      "2012 - 1\n"
     ]
    }
   ],
   "source": [
    "def year_movie_count(tx):\n",
    "    result = tx.run(\"\"\"\n",
    "        MATCH (movie:Movie)\n",
    "        WITH movie.released as year, COUNT(movie.title) as movie_count\n",
    "        RETURN year, movie_count ORDER BY year\n",
    "    \"\"\")\n",
    "    return [record for record in result]\n",
    "\n",
    "with driver.session() as session:\n",
    "    movie_count = session.execute_read(year_movie_count)\n",
    "    for m in movie_count:\n",
    "        print(f'{m[\"year\"]} - {m[\"movie_count\"]}')"
   ]
  },
  {
   "cell_type": "markdown",
   "metadata": {},
   "source": [
    "4*. Найти актёра с наибольшим промежутком между первым и последним фильмом"
   ]
  },
  {
   "cell_type": "code",
   "execution_count": 6,
   "metadata": {},
   "outputs": [
    {
     "name": "stdout",
     "output_type": "stream",
     "text": [
      "Jack Nicholson - 28\n"
     ]
    }
   ],
   "source": [
    "def actor_max_movie_gap(tx):\n",
    "    result = tx.run(\"\"\"\n",
    "        MATCH (actor:Person)-[:ACTED_IN]->(movie:Movie)\n",
    "        WITH actor, MIN(movie.released) as oldest_year, MAX(movie.released) as newest_year\n",
    "        WITH actor, newest_year-oldest_year as movie_gap\n",
    "        RETURN actor.name as actor_name, movie_gap ORDER BY movie_gap DESC LIMIT 1\n",
    "    \"\"\")\n",
    "    return [record for record in result]\n",
    "\n",
    "with driver.session() as session:\n",
    "    movie_gap = session.execute_read(actor_max_movie_gap)\n",
    "    for m in movie_gap:\n",
    "        print(f'{m[\"actor_name\"]} - {m[\"movie_gap\"]}')"
   ]
  }
 ],
 "metadata": {
  "kernelspec": {
   "display_name": "Python 3",
   "language": "python",
   "name": "python3"
  },
  "language_info": {
   "codemirror_mode": {
    "name": "ipython",
    "version": 3
   },
   "file_extension": ".py",
   "mimetype": "text/x-python",
   "name": "python",
   "nbconvert_exporter": "python",
   "pygments_lexer": "ipython3",
   "version": "3.13.2"
  }
 },
 "nbformat": 4,
 "nbformat_minor": 2
}
