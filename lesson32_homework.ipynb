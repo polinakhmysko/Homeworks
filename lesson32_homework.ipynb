{
 "cells": [
  {
   "cell_type": "code",
   "execution_count": 32,
   "metadata": {},
   "outputs": [],
   "source": [
    "from clickhouse_driver import Client\n",
    "\n",
    "client = Client(\n",
    "    host='localhost',\n",
    "    user='default',\n",
    "    password='',\n",
    "    database='default'\n",
    ")"
   ]
  },
  {
   "cell_type": "markdown",
   "metadata": {},
   "source": [
    "CREATE"
   ]
  },
  {
   "cell_type": "code",
   "execution_count": 33,
   "metadata": {},
   "outputs": [],
   "source": [
    "def create_table():\n",
    "    client.execute('''\n",
    "        CREATE TABLE IF NOT EXISTS users (\n",
    "            id UInt32,\n",
    "            name String,\n",
    "            age UInt8\n",
    "        ) ENGINE = MergeTree()\n",
    "        ORDER BY id\n",
    "    ''')\n",
    "\n",
    "create_table()"
   ]
  },
  {
   "cell_type": "markdown",
   "metadata": {},
   "source": [
    "INSERT"
   ]
  },
  {
   "cell_type": "code",
   "execution_count": 34,
   "metadata": {},
   "outputs": [],
   "source": [
    "def insert_user(user_id: int, name: str, age: int):\n",
    "    client.execute(\n",
    "        'INSERT INTO users (id, name, age) VALUES',\n",
    "        [(user_id, name, age)]\n",
    "    )\n",
    "\n",
    "insert_user(1, 'Alex', 27)\n",
    "insert_user(2, 'Maria', 30)"
   ]
  },
  {
   "cell_type": "markdown",
   "metadata": {},
   "source": [
    "READ"
   ]
  },
  {
   "cell_type": "code",
   "execution_count": 35,
   "metadata": {},
   "outputs": [
    {
     "data": {
      "text/plain": [
       "[(1, 'Alex', 27)]"
      ]
     },
     "execution_count": 35,
     "metadata": {},
     "output_type": "execute_result"
    }
   ],
   "source": [
    "def get_user_by_id(user_id: int):\n",
    "    return client.execute(\n",
    "        'SELECT * FROM users WHERE id = %(id)s',\n",
    "        {'id': user_id}\n",
    "    )\n",
    "\n",
    "get_user_by_id(1)"
   ]
  },
  {
   "cell_type": "markdown",
   "metadata": {},
   "source": [
    "UPDATE"
   ]
  },
  {
   "cell_type": "code",
   "execution_count": 37,
   "metadata": {},
   "outputs": [],
   "source": [
    "def update_user_age(user_id: int, new_age: int):\n",
    "    client.execute(\n",
    "        f'ALTER TABLE users UPDATE age = {new_age} WHERE id = {user_id}'\n",
    "    )\n",
    "\n",
    "update_user_age(1, 28)"
   ]
  },
  {
   "cell_type": "code",
   "execution_count": 38,
   "metadata": {},
   "outputs": [
    {
     "data": {
      "text/plain": [
       "[(1, 'Alex', 28)]"
      ]
     },
     "execution_count": 38,
     "metadata": {},
     "output_type": "execute_result"
    }
   ],
   "source": [
    "get_user_by_id(1)"
   ]
  },
  {
   "cell_type": "markdown",
   "metadata": {},
   "source": [
    "DELETE"
   ]
  },
  {
   "cell_type": "code",
   "execution_count": 39,
   "metadata": {},
   "outputs": [
    {
     "data": {
      "text/plain": [
       "[(1, 'Alex', 28), (2, 'Maria', 30)]"
      ]
     },
     "execution_count": 39,
     "metadata": {},
     "output_type": "execute_result"
    }
   ],
   "source": [
    "def get_all_users():\n",
    "    return client.execute('SELECT * FROM users')\n",
    "\n",
    "get_all_users()"
   ]
  },
  {
   "cell_type": "code",
   "execution_count": 40,
   "metadata": {},
   "outputs": [],
   "source": [
    "def delete_user(user_id: int):\n",
    "    client.execute(\n",
    "        f'ALTER TABLE users DELETE WHERE id = {user_id}'\n",
    "    )\n",
    "\n",
    "delete_user(2)"
   ]
  },
  {
   "cell_type": "code",
   "execution_count": 41,
   "metadata": {},
   "outputs": [
    {
     "data": {
      "text/plain": [
       "[(1, 'Alex', 28)]"
      ]
     },
     "execution_count": 41,
     "metadata": {},
     "output_type": "execute_result"
    }
   ],
   "source": [
    "get_all_users()"
   ]
  }
 ],
 "metadata": {
  "kernelspec": {
   "display_name": "Python 3",
   "language": "python",
   "name": "python3"
  },
  "language_info": {
   "codemirror_mode": {
    "name": "ipython",
    "version": 3
   },
   "file_extension": ".py",
   "mimetype": "text/x-python",
   "name": "python",
   "nbconvert_exporter": "python",
   "pygments_lexer": "ipython3",
   "version": "3.13.2"
  }
 },
 "nbformat": 4,
 "nbformat_minor": 2
}
