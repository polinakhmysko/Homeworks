{
 "cells": [
  {
   "cell_type": "markdown",
   "metadata": {},
   "source": [
    "База данных. Задача 1"
   ]
  },
  {
   "cell_type": "code",
   "execution_count": 2,
   "metadata": {},
   "outputs": [
    {
     "data": {
      "text/html": [
       "<div>\n",
       "<style scoped>\n",
       "    .dataframe tbody tr th:only-of-type {\n",
       "        vertical-align: middle;\n",
       "    }\n",
       "\n",
       "    .dataframe tbody tr th {\n",
       "        vertical-align: top;\n",
       "    }\n",
       "\n",
       "    .dataframe thead th {\n",
       "        text-align: right;\n",
       "    }\n",
       "</style>\n",
       "<table border=\"1\" class=\"dataframe\">\n",
       "  <thead>\n",
       "    <tr style=\"text-align: right;\">\n",
       "      <th></th>\n",
       "      <th>age</th>\n",
       "    </tr>\n",
       "    <tr>\n",
       "      <th>city</th>\n",
       "      <th></th>\n",
       "    </tr>\n",
       "  </thead>\n",
       "  <tbody>\n",
       "    <tr>\n",
       "      <th>Минск</th>\n",
       "      <td>31.5</td>\n",
       "    </tr>\n",
       "  </tbody>\n",
       "</table>\n",
       "</div>"
      ],
      "text/plain": [
       "        age\n",
       "city       \n",
       "Минск  31.5"
      ]
     },
     "execution_count": 2,
     "metadata": {},
     "output_type": "execute_result"
    }
   ],
   "source": [
    "import pandas as pd\n",
    "import sqlite3\n",
    "with sqlite3.connect('database.db') as conn:\n",
    "    df = pd.read_sql('select * from clients', conn)\n",
    " \n",
    "df\n",
    "av_age = df.groupby('city')['age'].mean()\n",
    "av_age_df = pd.DataFrame(av_age)\n",
    "av_age_Minsk = av_age_df.query('city == \"Минск\"')\n",
    "av_age_Minsk"
   ]
  },
  {
   "cell_type": "markdown",
   "metadata": {},
   "source": [
    "База данных. Задача 2"
   ]
  },
  {
   "cell_type": "code",
   "execution_count": 3,
   "metadata": {},
   "outputs": [
    {
     "data": {
      "text/html": [
       "<div>\n",
       "<style scoped>\n",
       "    .dataframe tbody tr th:only-of-type {\n",
       "        vertical-align: middle;\n",
       "    }\n",
       "\n",
       "    .dataframe tbody tr th {\n",
       "        vertical-align: top;\n",
       "    }\n",
       "\n",
       "    .dataframe thead th {\n",
       "        text-align: right;\n",
       "    }\n",
       "</style>\n",
       "<table border=\"1\" class=\"dataframe\">\n",
       "  <thead>\n",
       "    <tr style=\"text-align: right;\">\n",
       "      <th></th>\n",
       "      <th>client_id</th>\n",
       "      <th>amount</th>\n",
       "      <th>name</th>\n",
       "      <th>age</th>\n",
       "      <th>city</th>\n",
       "      <th>account_number</th>\n",
       "    </tr>\n",
       "  </thead>\n",
       "  <tbody>\n",
       "    <tr>\n",
       "      <th>0</th>\n",
       "      <td>2</td>\n",
       "      <td>1500</td>\n",
       "      <td>Екатерина</td>\n",
       "      <td>28</td>\n",
       "      <td>Москва</td>\n",
       "      <td>1002</td>\n",
       "    </tr>\n",
       "    <tr>\n",
       "      <th>1</th>\n",
       "      <td>4</td>\n",
       "      <td>2000</td>\n",
       "      <td>Михаил</td>\n",
       "      <td>37</td>\n",
       "      <td>Витебск</td>\n",
       "      <td>1004</td>\n",
       "    </tr>\n",
       "    <tr>\n",
       "      <th>2</th>\n",
       "      <td>5</td>\n",
       "      <td>1200</td>\n",
       "      <td>Евгения</td>\n",
       "      <td>29</td>\n",
       "      <td>Минск</td>\n",
       "      <td>1005</td>\n",
       "    </tr>\n",
       "  </tbody>\n",
       "</table>\n",
       "</div>"
      ],
      "text/plain": [
       "   client_id  amount       name  age     city  account_number\n",
       "0          2    1500  Екатерина   28   Москва            1002\n",
       "1          4    2000     Михаил   37  Витебск            1004\n",
       "2          5    1200    Евгения   29    Минск            1005"
      ]
     },
     "execution_count": 3,
     "metadata": {},
     "output_type": "execute_result"
    }
   ],
   "source": [
    "with sqlite3.connect('database.db') as conn:\n",
    "    df = pd.read_sql('select * from balance', conn)\n",
    "    df1 = pd.read_sql('select * from clients', conn)\n",
    "\n",
    "clients_1000 = df.query('amount > 1000')\n",
    "result_clients_1000 = pd.merge (clients_1000, df1, on='client_id')\n",
    "result_clients_1000"
   ]
  },
  {
   "cell_type": "markdown",
   "metadata": {},
   "source": [
    "База данных. Задача 3"
   ]
  },
  {
   "cell_type": "code",
   "execution_count": 4,
   "metadata": {},
   "outputs": [
    {
     "data": {
      "text/plain": [
       "type\n",
       "deposit       5\n",
       "withdrawal    5\n",
       "Name: transaction_id, dtype: int64"
      ]
     },
     "execution_count": 4,
     "metadata": {},
     "output_type": "execute_result"
    }
   ],
   "source": [
    "with sqlite3.connect('database.db') as conn:\n",
    "    df = pd.read_sql('select * from transactions', conn)\n",
    "\n",
    "type_transaction = df.groupby('type')['transaction_id'].count()\n",
    "type_transaction"
   ]
  },
  {
   "cell_type": "markdown",
   "metadata": {},
   "source": [
    "База данных. Задача 4"
   ]
  },
  {
   "cell_type": "code",
   "execution_count": 5,
   "metadata": {},
   "outputs": [
    {
     "data": {
      "text/plain": [
       "client_id               4\n",
       "amount                -70\n",
       "name               Михаил\n",
       "age                    37\n",
       "city              Витебск\n",
       "account_number       1004\n",
       "Name: 3, dtype: object"
      ]
     },
     "execution_count": 5,
     "metadata": {},
     "output_type": "execute_result"
    }
   ],
   "source": [
    "with sqlite3.connect('database.db') as conn:\n",
    "    df = pd.read_sql('select * from transactions', conn)\n",
    "    df1 = pd.read_sql('select * from clients', conn)\n",
    "\n",
    "client_transactions = df.groupby('client_id')['amount'].min()\n",
    "client_transactions_df = pd.DataFrame(client_transactions)\n",
    "clients = pd.merge(client_transactions_df, df1, on='client_id')\n",
    "clients_sorted = clients.sort_values(by='amount')\n",
    "client = clients_sorted.iloc[0]\n",
    "client"
   ]
  },
  {
   "cell_type": "markdown",
   "metadata": {},
   "source": [
    "API. Задача 1"
   ]
  },
  {
   "cell_type": "code",
   "execution_count": 7,
   "metadata": {},
   "outputs": [
    {
     "name": "stdout",
     "output_type": "stream",
     "text": [
      "Все хорошо!\n"
     ]
    },
    {
     "data": {
      "text/plain": [
       "type\n",
       "Dragon 1.0    4\n",
       "Dragon 1.1    9\n",
       "Dragon 2.0    6\n",
       "Name: capsule_id, dtype: int64"
      ]
     },
     "execution_count": 7,
     "metadata": {},
     "output_type": "execute_result"
    }
   ],
   "source": [
    "import requests\n",
    "with requests.Session() as session:\n",
    "    response1 = session.get('https://api.spacexdata.com/v3/capsules')\n",
    "    if response1.status_code == 200:\n",
    "        print('Все хорошо!')\n",
    "\n",
    "df = pd.DataFrame(response1.json())\n",
    "capsules_type = df.groupby('type')['capsule_id'].count()\n",
    "capsules_type"
   ]
  }
 ],
 "metadata": {
  "kernelspec": {
   "display_name": "Python 3",
   "language": "python",
   "name": "python3"
  },
  "language_info": {
   "codemirror_mode": {
    "name": "ipython",
    "version": 3
   },
   "file_extension": ".py",
   "mimetype": "text/x-python",
   "name": "python",
   "nbconvert_exporter": "python",
   "pygments_lexer": "ipython3",
   "version": "3.13.2"
  }
 },
 "nbformat": 4,
 "nbformat_minor": 2
}
